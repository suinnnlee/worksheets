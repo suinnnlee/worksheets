{
 "cells": [
  {
   "attachments": {},
   "cell_type": "markdown",
   "metadata": {},
   "source": [
    "# Worksheet 02\n",
    "\n",
    "Name: Suin Lee \n",
    "UID: U68592929\n",
    "\n",
    "### Topics\n",
    "\n",
    "- Effective Programming\n",
    "\n",
    "### Effective Programming\n",
    "\n",
    "a) What is a drawback of the top down approach?"
   ]
  },
  {
   "cell_type": "markdown",
   "metadata": {},
   "source": [
    "It can make the testing process more complicated, and your code won't be runnable until the very end."
   ]
  },
  {
   "cell_type": "markdown",
   "metadata": {},
   "source": [
    "b) What is a drawback of the bottom up approach?"
   ]
  },
  {
   "cell_type": "markdown",
   "metadata": {},
   "source": [
    "A drawback is that you won't know what small scale functions are going to be needed without doing the high level functions first."
   ]
  },
  {
   "cell_type": "markdown",
   "metadata": {},
   "source": [
    "c) What are 3 things you can do to have a better debugging experience?"
   ]
  },
  {
   "cell_type": "markdown",
   "metadata": {},
   "source": [
    "Re-read your code and error statements, look for help online, take breaks."
   ]
  },
  {
   "attachments": {},
   "cell_type": "markdown",
   "metadata": {},
   "source": [
    "d) Follow along with the live coding. You can write your code here:"
   ]
  },
  {
   "cell_type": "code",
   "execution_count": null,
   "metadata": {},
   "outputs": [],
   "source": [
    "class Board:\n",
    "    \n",
    "    def __init__(self):\n",
    "        self.board = 8*[8*['-']]\n",
    "        \n",
    "    def __repr__(self):\n",
    "        res = \"\"\n",
    "        for row in self.board:\n",
    "            for col in row:\n",
    "                res += col\n",
    "                res += \" \"\n",
    "            res += '\\n'\n",
    "        return res\n",
    "    \n",
    "    def solve(self):\n",
    "        row,col = 0,0\n",
    "        while row < 8:\n",
    "            if self.is_legal(row,col):\n",
    "                self.set_queen_at(row,col)\n",
    "                row += 1\n",
    "                col = 0\n",
    "            else:\n",
    "                col += 1\n",
    "                while col >= 8:\n",
    "                    col = self.find_queen_in_row(row-1)\n",
    "                    self.remove_queen_at(row-1)\n",
    "                    col += 1\n",
    "                    row -= 1\n",
    "        print(\"Solution found:\")\n",
    "        print(self)\n",
    "        \n",
    "    def set_queen_at(self,row,col):\n",
    "        self.board[row][col] = 'Q'\n",
    "        \n",
    "    def remove_queen_at(self,row):\n",
    "        self.board[row] = 8*['-']\n",
    "        \n",
    "    def find_queen_in_row(self,row):\n",
    "        try:\n",
    "            return self.board[row].index('Q')\n",
    "        except:\n",
    "            return 0\n",
    "        \n",
    "    def is_legal(self,row,col):\n",
    "        if self.queen_in_row(row) or self.queen_in_col(col) or self.queen_in_diag(row,col):\n",
    "            return False\n",
    "        return True\n",
    "    \n",
    "    def queen_in_row(self,row):\n",
    "        for col in range(len(self.board[row])):\n",
    "            if self.board[row][col] == 'Q':\n",
    "                return True\n",
    "        return False\n",
    "    \n",
    "    def queen_in_col(self,col):\n",
    "        for row in range(len(self.board)):\n",
    "            if self.board[row][col] == 'Q':\n",
    "                return True\n",
    "        return False\n",
    "    \n",
    "    def queen_in_diag(self,row,col):\n",
    "        for i in range(len(self.board)):\n",
    "            if self.is_on_board(row-i,col-i) and self.board[row-i][col-i] == 'Q':\n",
    "                return False\n",
    "            if self.is_on_board(row+i,col-i) and self.board[row+i][col-i] == 'Q':\n",
    "                return False\n",
    "            if self.is_on_board(row-i,col+i) and self.board[row-i][col+i] == 'Q':\n",
    "                return False\n",
    "            if self.is_on_board(row+i,col+i) and self.board[row+i][col+i] == 'Q':\n",
    "                return False\n",
    "\n",
    "    def is_on_board(self,row,col):\n",
    "        return row >= 0 and row < 8 and col >= 0 and col < 8\n",
    "    \n",
    "board = Board()\n",
    "print(board)\n",
    "board.solve()"
   ]
  }
 ],
 "metadata": {
  "kernelspec": {
   "display_name": "Python 3",
   "language": "python",
   "name": "python3"
  },
  "language_info": {
   "name": "python",
   "version": "3.11.1 (main, Dec  7 2022, 00:00:00) [GCC 12.2.1 20221121 (Red Hat 12.2.1-4)]"
  },
  "orig_nbformat": 4,
  "vscode": {
   "interpreter": {
    "hash": "76ca05dc3ea24b2e3b98cdb7774adfbb40773424bf5109b477fd793f623715af"
   }
  }
 },
 "nbformat": 4,
 "nbformat_minor": 2
}
